{
 "cells": [
  {
   "cell_type": "markdown",
   "metadata": {},
   "source": [
    "#  Cross Validation"
   ]
  },
  {
   "cell_type": "markdown",
   "metadata": {},
   "source": [
    "Cross-validation, it’s a model validation techniques for assessing how the results of a statistical analysis (model) will generalize to an independent data set. It is mainly used in settings where the goal is prediction, and one wants to estimate how accurately a predictive model will perform in practice.\n",
    "The goal of cross-validation is to define a data set to test the model in the training phase (i.e. validation data set) in order to limit problems like overfitting,underfitting and get an insight on how the model will generalize to an independent data set. It is important the validation and the training set to be drawn from the same distribution otherwise it would make things worse."
   ]
  },
  {
   "cell_type": "markdown",
   "metadata": {},
   "source": [
    "Underfitting refers to not capturing enough patterns in the data. The model performs poorly both in the training and the test set.\n",
    "\n",
    "Overfitting refers: a)capturing noise and b) capturing patterns which do not generalize well to unseen data. The model performs extremely well to the training set but poorly on the test set."
   ]
  },
  {
   "cell_type": "code",
   "execution_count": 67,
   "metadata": {},
   "outputs": [],
   "source": [
    "# Import libraries\n",
    "import numpy as np\n",
    "import pandas as pd\n",
    "import matplotlib.pyplot as plt\n",
    "from sklearn.model_selection import train_test_split, cross_val_score\n",
    "from sklearn.neighbors import KNeighborsClassifier\n",
    "from sklearn.metrics import accuracy_score"
   ]
  },
  {
   "cell_type": "code",
   "execution_count": 51,
   "metadata": {},
   "outputs": [
    {
     "name": "stdout",
     "output_type": "stream",
     "text": [
      "         x1        x2  Class\n",
      "0 -0.177497  0.930496    1.0\n",
      "1  1.977424  1.766155    0.0\n",
      "2  1.800024  1.700343    0.0\n",
      "3 -0.770837  2.359163    1.0\n",
      "4 -0.308009  1.594063    1.0\n"
     ]
    }
   ],
   "source": [
    "# Data preprocessing\n",
    "\n",
    "col_headers = ['x1', 'x2', 'Class']\n",
    "\n",
    "data = pd.read_csv('4.linearsep.csv', header=None, names=col_headers)\n",
    "print(data.head())\n",
    "\n",
    "X = np.array(data.iloc[:, 0:2])\n",
    "y = np.array(data['Class'])"
   ]
  },
  {
   "cell_type": "markdown",
   "metadata": {},
   "source": [
    "### Simple Cross Validation"
   ]
  },
  {
   "cell_type": "code",
   "execution_count": 71,
   "metadata": {},
   "outputs": [
    {
     "name": "stdout",
     "output_type": "stream",
     "text": [
      "\n",
      " CV accuracy for K = 1 is 95%\n",
      "\n",
      " CV accuracy for K = 3 is 95%\n",
      "\n",
      " CV accuracy for K = 5 is 95%\n",
      "\n",
      " CV accuracy for K = 7 is 95%\n",
      "\n",
      " CV accuracy for K = 9 is 95%\n",
      "\n",
      " CV accuracy for K = 11 is 95%\n",
      "\n",
      " CV accuracy for K = 13 is 95%\n",
      "\n",
      " CV accuracy for K = 15 is 95%\n",
      "\n",
      " CV accuracy for K = 17 is 95%\n",
      "\n",
      " CV accuracy for K = 19 is 95%\n",
      "\n",
      " CV accuracy for K = 21 is 95%\n",
      "\n",
      " CV accuracy for K = 23 is 95%\n",
      "\n",
      " CV accuracy for K = 25 is 95%\n",
      "\n",
      " CV accuracy for K = 27 is 95%\n",
      "\n",
      " CV accuracy for K = 29 is 95%\n",
      "\n",
      " CV accuracy for K = 31 is 95%\n",
      "\n",
      " CV accuracy for K = 33 is 95%\n",
      "\n",
      " CV accuracy for K = 35 is 90%\n",
      "\n",
      " CV accuracy for K = 37 is 90%\n",
      "\n",
      " CV accuracy for K = 39 is 85%\n",
      "\n",
      " CV accuracy for K = 41 is 85%\n",
      "\n",
      " CV accuracy for K = 43 is 85%\n",
      "\n",
      " CV accuracy for K = 45 is 47%\n",
      "\n",
      " CV accuracy for K = 47 is 47%\n",
      "\n",
      " CV accuracy for K = 49 is 47%\n",
      "\n",
      " Accuracy for K = 19 on test dataset:  83.33333333333334\n"
     ]
    }
   ],
   "source": [
    "# Split data into Train and Test dataset with a ratio 70:30\n",
    "X_base, X_test, y_base, y_test = train_test_split(X, y, test_size=0.3, random_state=14)\n",
    "\n",
    "# Split train dataset into Train and Cross Validation dataset with a ratio 70:30\n",
    "X_train, X_cv, y_train, y_cv = train_test_split(X_base, y_base, test_size=0.3, random_state=14)\n",
    "\n",
    "# Find accuracy on cross validation dataset for a KNN model trained for different values of K\n",
    "for i in range(1,50,2):\n",
    "    knn = KNeighborsClassifier(n_neighbors=i)\n",
    "    knn.fit(X_train,y_train)\n",
    "    pred = knn.predict(X_cv)\n",
    "    acc_score = accuracy_score(y_cv, pred, normalize=True) * float(100)\n",
    "    print('\\n CV accuracy for K = %d is %d%%'%(i, acc_score))\n",
    "    \n",
    "# K = 1 has the high accuracy score on cross validation. This will now be used on test dataset\n",
    "\n",
    "knn = KNeighborsClassifier(n_neighbors=19)\n",
    "knn.fit(X_train,y_train)\n",
    "pred = knn.predict(X_test)\n",
    "acc_score = accuracy_score(y_test, pred, normalize=True) * float(100)\n",
    "\n",
    "print('\\n Accuracy for K = 19 on test dataset: ',acc_score)"
   ]
  },
  {
   "cell_type": "markdown",
   "metadata": {},
   "source": [
    "### K Fold Cross Validation "
   ]
  },
  {
   "cell_type": "code",
   "execution_count": 70,
   "metadata": {},
   "outputs": [
    {
     "name": "stdout",
     "output_type": "stream",
     "text": [
      "Optimal value for K:  19\n"
     ]
    },
    {
     "data": {
      "image/png": "[encoded data removed]",
      "text/plain": [
       "<Figure size 432x288 with 1 Axes>"
      ]
     },
     "metadata": {
      "needs_background": "light"
     },
     "output_type": "display_data"
    }
   ],
   "source": [
    "# Define list of neighbors\n",
    "neighbors = list(filter(lambda x: x%2!=0, range(0,30)))\n",
    "\n",
    "cv_scores = []\n",
    "\n",
    "# Perform 10 fold cross validation\n",
    "for value in neighbors:\n",
    "    knn = KNeighborsClassifier(n_neighbors = value)\n",
    "    scores = cross_val_score(knn, X_train, y_train, cv=10, scoring='accuracy')\n",
    "    cv_scores.append(scores.mean())\n",
    "    \n",
    "# Convert score to Miss Classification Error\n",
    "\n",
    "MSE = [1 - x for x in cv_scores]\n",
    "\n",
    "# Determine best value for K\n",
    "optimal_k = neighbors[MSE.index(min(MSE))]\n",
    "print('Optimal value for K: ',optimal_k)\n",
    "\n",
    "plt.plot(neighbors, MSE)\n",
    "plt.xlabel('Number of Neighbors, K')\n",
    "plt.ylabel('Miss Classification Error')\n",
    "plt.annotate('(%s, %s)'% (neighbors[MSE.index(min(MSE))], MSE[MSE.index(min(MSE))]), xy=(neighbors[MSE.index(min(MSE))], MSE[MSE.index(min(MSE))]))\n",
    "plt.show()"
   ]
  },
  {
   "cell_type": "code",
   "execution_count": 73,
   "metadata": {},
   "outputs": [
    {
     "name": "stdout",
     "output_type": "stream",
     "text": [
      "Accuracy score on test dataset:  0.8333333333333334\n"
     ]
    }
   ],
   "source": [
    "# Evaluating optimal value of K in test dataset\n",
    "\n",
    "knn = KNeighborsClassifier(n_neighbors = optimal_k)\n",
    "knn.fit(X_train, y_train)\n",
    "pred = knn.predict(X_test)\n",
    "\n",
    "acc_score = accuracy_score(y_test,pred)\n",
    "\n",
    "print(\"Accuracy score on test dataset: \", acc_score)"
   ]
  }
 ],
 "metadata": {
  "kernelspec": {
   "display_name": "Python 3",
   "language": "python",
   "name": "python3"
  },
  "language_info": {
   "codemirror_mode": {
    "name": "ipython",
    "version": 3
   },
   "file_extension": ".py",
   "mimetype": "text/x-python",
   "name": "python",
   "nbconvert_exporter": "python",
   "pygments_lexer": "ipython3",
   "version": "3.7.3"
  }
 },
 "nbformat": 4,
 "nbformat_minor": 2
}
